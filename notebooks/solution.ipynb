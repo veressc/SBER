{
 "cells": [
  {
   "cell_type": "markdown",
   "id": "50e62bb9",
   "metadata": {},
   "source": [
    "---\n",
    "\n",
    "## Задание 1: Теоретическое описание задачи\n",
    "\n",
    "Задача извлечения именованных сущностей (Named Entity Recognition, NER) — это ключевая подзадача обработки естественного языка (NLP), направленная на автоматическое обнаружение и классификацию сущностей в неструктурированном тексте. К типичным категориям сущностей относятся:\n",
    "\n",
    "- `PER` — персоны (люди),\n",
    "- `ORG` — организации,\n",
    "- `LOC` — географические объекты,\n",
    "- `EVT` — события,\n",
    "- `PRO` — продукты или объекты.\n",
    "\n",
    "**Классические методы:**\n",
    "До распространения нейронных сетей основными подходами были:\n",
    "\n",
    "- Правила и шаблоны (rule-based systems),\n",
    "- Статистические модели: HMM (Hidden Markov Models), CRF (Conditional Random Fields),\n",
    "- Feature engineering — ручное составление признаков на основе лингвистических свойств.\n",
    "\n",
    "**Современные подходы (LLM):** \n",
    "\n",
    "С появлением больших языковых моделей (LLM) стало возможным извлечение сущностей в zero-shot или few-shot режимах, без дополнительного обучения. GigaChat, как представитель LLM, способен воспринимать структурированный prompt и возвращать списки сущностей, опираясь на контекст.\n",
    "\n",
    "**Метрики качества:**\n",
    "\n",
    "Для оценки качества предсказания применяются:\n",
    "\n",
    "Precision (точность),\n",
    "Recall (полнота),\n",
    "F1-score — гармоническое среднее между precision и recall.\n",
    "Оценка может проводиться:\n",
    "\n",
    "По каждой сущности (class-wise),\n",
    "В среднем (macro/micro-average)."
   ]
  },
  {
   "cell_type": "markdown",
   "id": "54d86cc5",
   "metadata": {},
   "source": [
    "---\n",
    "\n",
    "##  Задание 2: Загрузка и подготовка датасета\n",
    "\n",
    "**Формулировка:**  \n",
    "Реализуйте чтение датасета в pandas DataFrame с обязательными колонками:\n",
    "- `document_id`\n",
    "- `document_text`\n",
    "- `entity`\n",
    "- `gold_answer`\n",
    "\n",
    "Выведите шапку датафрейма.\n"
   ]
  },
  {
   "cell_type": "code",
   "execution_count": null,
   "id": "5c156fcb",
   "metadata": {},
   "outputs": [],
   "source": [
    "# Загрузка и отображение DataFrame"
   ]
  },
  {
   "cell_type": "markdown",
   "id": "30fbdd54",
   "metadata": {},
   "source": [
    "---\n",
    "\n",
    "##  Задание 3: Формирование prompt-функции для LLM\n",
    "\n",
    "**Формулировка:**  \n",
    "Напишите функцию, которая принимает на вход строку датафрейма и выдает текст входного сообщения для LLM\n",
    "\n",
    "\n"
   ]
  },
  {
   "cell_type": "code",
   "execution_count": null,
   "id": "ce12abc9",
   "metadata": {},
   "outputs": [],
   "source": [
    "# Код для задания 3"
   ]
  },
  {
   "cell_type": "markdown",
   "id": "73438358",
   "metadata": {},
   "source": [
    "---\n",
    "\n",
    "##  Задание 4: Ручное получение ответов от GigaChat и сохранение\n",
    "\n",
    "**Формулировка:**  \n",
    "Получите ответы GigaChat для всех документов. Документов всего 9, поэтому сделать это можно вручную, пользуясь веб-интерфейсом GigaChat или ботом в ВК или Телеграме. \n",
    "\n",
    "\n"
   ]
  },
  {
   "cell_type": "code",
   "execution_count": null,
   "id": "b5eb1f87",
   "metadata": {},
   "outputs": [],
   "source": [
    "# Код для задания 4"
   ]
  },
  {
   "cell_type": "markdown",
   "id": "68b7b3d6",
   "metadata": {},
   "source": [
    "---\n",
    "\n",
    "##  Задание 5: Реализация метрики score_fn() и юнит-тесты\n",
    "\n",
    "**Формулировка:**  \n",
    "<сюда можно вставить формулировку из ТЗ>\n",
    "\n",
    "\n"
   ]
  },
  {
   "cell_type": "code",
   "execution_count": null,
   "id": "14a404f4",
   "metadata": {},
   "outputs": [],
   "source": [
    "# Код для задания 5"
   ]
  },
  {
   "cell_type": "markdown",
   "id": "45acafbe",
   "metadata": {},
   "source": [
    "---\n",
    "\n",
    "##  Задание 6: Расчёт метрик и визуализация по сущностям/документам\n",
    "\n",
    "**Формулировка:**  \n",
    "<сюда можно вставить формулировку из ТЗ>\n",
    "\n"
   ]
  },
  {
   "cell_type": "code",
   "execution_count": null,
   "id": "25ad5001",
   "metadata": {},
   "outputs": [],
   "source": [
    "# Код для задания 6\n"
   ]
  },
  {
   "cell_type": "markdown",
   "id": "df5002f3",
   "metadata": {},
   "source": [
    "---\n",
    "\n",
    "##  Задание 7: Анализ зависимости качества от длины документа\n",
    "\n",
    "**Формулировка:**  \n",
    "<сюда можно вставить формулировку из ТЗ>\n"
   ]
  },
  {
   "cell_type": "code",
   "execution_count": null,
   "id": "5db5a874",
   "metadata": {},
   "outputs": [],
   "source": [
    "# Код для задания 7"
   ]
  },
  {
   "cell_type": "markdown",
   "id": "98a5d37b",
   "metadata": {},
   "source": [
    "---\n",
    "\n",
    "##  Задание 8: Анализ ошибок, слабых и сильных сторон модели\n",
    "\n",
    "**Формулировка:**  \n",
    "\n",
    "\n"
   ]
  },
  {
   "cell_type": "code",
   "execution_count": null,
   "id": "cfc1e2e4",
   "metadata": {},
   "outputs": [],
   "source": [
    "# Код для задания 8"
   ]
  },
  {
   "cell_type": "markdown",
   "id": "84574619",
   "metadata": {},
   "source": [
    "---\n",
    "\n",
    "##  Задание 9: Выводы по проекту и самооценка\n",
    "\n",
    "**Формулировка:**  \n",
    "\n",
    "\n",
    "\n"
   ]
  },
  {
   "cell_type": "code",
   "execution_count": null,
   "id": "29edd040",
   "metadata": {},
   "outputs": [],
   "source": [
    "# Код для задания 9"
   ]
  }
 ],
 "metadata": {
  "kernelspec": {
   "display_name": "Python 3 (ipykernel)",
   "language": "python",
   "name": "python3"
  },
  "language_info": {
   "codemirror_mode": {
    "name": "ipython",
    "version": 3
   },
   "file_extension": ".py",
   "mimetype": "text/x-python",
   "name": "python",
   "nbconvert_exporter": "python",
   "pygments_lexer": "ipython3",
   "version": "3.13.5"
  }
 },
 "nbformat": 4,
 "nbformat_minor": 5
}
